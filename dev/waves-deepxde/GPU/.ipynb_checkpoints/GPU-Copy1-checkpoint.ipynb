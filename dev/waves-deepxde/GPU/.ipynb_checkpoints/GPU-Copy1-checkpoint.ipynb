{
 "cells": [
  {
   "cell_type": "code",
   "execution_count": 11,
   "id": "81cac8fd",
   "metadata": {},
   "outputs": [
    {
     "name": "stdout",
     "output_type": "stream",
     "text": [
      "Visible devices cannot be modified after being initialized\n",
      "Set the default float type to float32\n",
      "tensorflow which backend?\n",
      "Warning: Polygon.uniform_points not implemented. Use random_points instead.\n",
      "Compiling model...\n",
      "'compile' took 0.000506 s\n",
      "\n",
      "Training model...\n",
      "\n",
      "WARNING:tensorflow:AutoGraph could not transform <function <lambda> at 0x7f51585b0160> and will run it as-is.\n",
      "Cause: could not parse the source code of <function <lambda> at 0x7f51585b0160>: no matching AST found\n",
      "To silence this warning, decorate the function with @tf.autograph.experimental.do_not_convert\n",
      "WARNING: AutoGraph could not transform <function <lambda> at 0x7f51585b0160> and will run it as-is.\n",
      "Cause: could not parse the source code of <function <lambda> at 0x7f51585b0160>: no matching AST found\n",
      "To silence this warning, decorate the function with @tf.autograph.experimental.do_not_convert\n"
     ]
    },
    {
     "name": "stderr",
     "output_type": "stream",
     "text": [
      "2021-11-03 13:12:14.310736: I tensorflow/core/profiler/lib/profiler_session.cc:131] Profiler session initializing.\n",
      "2021-11-03 13:12:14.310779: I tensorflow/core/profiler/lib/profiler_session.cc:146] Profiler session started.\n",
      "2021-11-03 13:12:14.310847: E tensorflow/core/profiler/internal/gpu/cupti_tracer.cc:1666] function cupti_interface_->Subscribe( &subscriber_, (CUpti_CallbackFunc)ApiCallback, this)failed with error CUPTI could not be loaded or symbol could not be found.\n",
      "2021-11-03 13:12:14.311002: I tensorflow/core/profiler/lib/profiler_session.cc:164] Profiler session tear down.\n",
      "2021-11-03 13:12:14.311023: E tensorflow/core/profiler/internal/gpu/cupti_tracer.cc:1757] function cupti_interface_->Finalize()failed with error CUPTI could not be loaded or symbol could not be found.\n"
     ]
    },
    {
     "name": "stdout",
     "output_type": "stream",
     "text": [
      "Step      Train loss              Test loss               Test metric\n",
      "0         [1.02e+00, 1.15e-02]    [1.02e+00, 1.15e-02]    []  \n",
      "1000      [3.40e-04, 5.29e-03]    [3.14e-04, 5.29e-03]    []  \n",
      "2000      [7.16e-05, 2.70e-03]    [5.23e-05, 2.70e-03]    []  \n",
      "3000      [1.33e-04, 2.23e-03]    [8.91e-05, 2.23e-03]    []  \n",
      "4000      [2.94e-04, 1.61e-03]    [2.19e-04, 1.61e-03]    []  \n",
      "5000      [2.42e-04, 1.03e-03]    [1.66e-04, 1.03e-03]    []  \n",
      "\n",
      "Best model at step 5000:\n",
      "  train loss: 1.28e-03\n",
      "  test loss: 1.20e-03\n",
      "  test metric: []\n",
      "\n",
      "'train' took 17.551129 s\n",
      "\n",
      "17.55286455154419 t\n"
     ]
    }
   ],
   "source": [
    "\"\"\"Backend supported: tensorflow.compat.v1, tensorflow, pytorch\"\"\"\n",
    "import deepxde as dde\n",
    "import tensorflow as tf\n",
    "\n",
    "gpus = tf.config.list_physical_devices('GPU')\n",
    "if gpus:\n",
    "  # Restrict TensorFlow to only use the first GPU\n",
    "  try:\n",
    "    tf.config.set_visible_devices(gpus[0], 'GPU')\n",
    "    logical_gpus = tf.config.list_logical_devices('GPU')\n",
    "    print(len(gpus), \"Physical GPUs,\", len(logical_gpus), \"Logical GPU\")\n",
    "  except RuntimeError as e:\n",
    "    # Visible devices must be set before GPUs have been initialized\n",
    "    print(e)\n",
    "    \n",
    "\n",
    "dde.backend.backend_name = 'tensorflow'\n",
    "#dde.backend.backend_name = \"tensorflow.compat.v1\"\n",
    "dde.config.set_default_float('float32')\n",
    "\n",
    "\n",
    "\n",
    "import time\n",
    "\n",
    "\n",
    "print(dde.backend.backend_name, 'which backend?')\n",
    "def pde(x, y):\n",
    "    dy_xx = dde.grad.hessian(y, x, i=0, j=0)\n",
    "    dy_yy = dde.grad.hessian(y, x, i=1, j=1)\n",
    "    return -dy_xx - dy_yy - 1\n",
    "\n",
    "\n",
    "def boundary(_, on_boundary):\n",
    "    return on_boundary\n",
    "\n",
    "\n",
    "geom = dde.geometry.Polygon([[0, 0], [1, 0], [1, -1], [-1, -1], [-1, 1], [0, 1]])\n",
    "bc = dde.DirichletBC(geom, lambda x: 0, boundary)\n",
    "\n",
    "data = dde.data.PDE(geom, pde, bc, num_domain=1200, num_boundary=120, num_test=1500)\n",
    "net = dde.maps.FNN([2] + [50] * 4 + [1], \"tanh\", \"Glorot uniform\")\n",
    "model = dde.Model(data, net)\n",
    "import datetime\n",
    "log_dir = \"./logs/fit/\" + datetime.datetime.now().strftime(\"%Y%m%d-%H%M%S\")\n",
    "\n",
    "tensorboard_callback = tf.keras.callbacks.TensorBoard(log_dir=log_dir, histogram_freq=1)\n",
    "\n",
    "time1 = time.time()\n",
    "model.compile(\"adam\", lr=0.001)\n",
    "model.train(epochs=5000)\n",
    "print(time.time()-time1, 't')\n",
    "#dde.saveplot(losshistory, train_state, issave=True, isplot=True)"
   ]
  },
  {
   "cell_type": "code",
   "execution_count": 5,
   "id": "3eef5370",
   "metadata": {},
   "outputs": [
    {
     "name": "stdout",
     "output_type": "stream",
     "text": [
      "<deepxde.model.Model object at 0x7f517c1bfdf0>\n"
     ]
    }
   ],
   "source": [
    "print(model)"
   ]
  }
 ],
 "metadata": {
  "kernelspec": {
   "display_name": "Python 3 (ipykernel)",
   "language": "python",
   "name": "python3"
  },
  "language_info": {
   "codemirror_mode": {
    "name": "ipython",
    "version": 3
   },
   "file_extension": ".py",
   "mimetype": "text/x-python",
   "name": "python",
   "nbconvert_exporter": "python",
   "pygments_lexer": "ipython3",
   "version": "3.9.5"
  }
 },
 "nbformat": 4,
 "nbformat_minor": 5
}
