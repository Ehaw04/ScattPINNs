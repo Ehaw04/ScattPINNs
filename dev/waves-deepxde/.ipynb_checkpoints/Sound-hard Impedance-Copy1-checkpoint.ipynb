{
 "cells": [
  {
   "cell_type": "code",
   "execution_count": 1,
   "id": "4dc09eb0",
   "metadata": {},
   "outputs": [
    {
     "name": "stderr",
     "output_type": "stream",
     "text": [
      "Using backend: tensorflow.compat.v1\n",
      "\n",
      "2021-10-26 08:44:48.182203: I tensorflow/stream_executor/platform/default/dso_loader.cc:53] Successfully opened dynamic library libcudart.so.11.0\n"
     ]
    },
    {
     "name": "stdout",
     "output_type": "stream",
     "text": [
      "WARNING:tensorflow:From /opt/conda/envs/DL/lib/python3.9/site-packages/tensorflow/python/compat/v2_compat.py:96: disable_resource_variables (from tensorflow.python.ops.variable_scope) is deprecated and will be removed in a future version.\n",
      "Instructions for updating:\n",
      "non-resource variables are not supported in the long term\n",
      "WARNING:tensorflow:From /opt/conda/envs/DL/lib/python3.9/site-packages/deepxde/nn/initializers.py:120: The name tf.keras.initializers.he_normal is deprecated. Please use tf.compat.v1.keras.initializers.he_normal instead.\n",
      "\n",
      "Set the default float type to float64\n"
     ]
    }
   ],
   "source": [
    "import numpy as np\n",
    "import matplotlib.pyplot as plt\n",
    "import deepxde as dde \n",
    "from analytical import sound_hard_circle\n",
    "\n",
    "\n",
    "dde.config.set_default_float('float64')\n",
    "\n",
    "\n",
    "\n",
    "\n",
    "'''                        Problem parameters                               '''\n",
    "k0 = 10                  # wavenumber\n",
    "wave_len = 2*np.pi / k0  # wavelength\n",
    "radius = 1 * wave_len    # scatterer radius\n",
    "d_air = 10 * wave_len     # distance between scatterer and absorbing layer\n",
    "\n",
    "'''    Discretization parameters: polynomial degree and mesh resolution     '''\n",
    "degree = 3  # polynomial degree\n",
    "n_wave = 10  # number of mesh elements per wavelength\n",
    "\n",
    "dim_x = 2 * (radius + d_air)\n",
    "\n",
    "# The mesh element size is h_elem\n",
    "h_elem = wave_len / n_wave\n",
    "\n",
    "R = dim_x / 2.\n",
    "nx = int(dim_x / h_elem)"
   ]
  },
  {
   "cell_type": "code",
   "execution_count": null,
   "id": "a6c6ff09",
   "metadata": {},
   "outputs": [
    {
     "name": "stdout",
     "output_type": "stream",
     "text": [
      "Warning: CSGDifference.uniform_points not implemented. Use random_points instead.\n",
      "Compiling model...\n",
      "Building feed-forward neural network...\n",
      "'build' took 0.045009 s\n",
      "\n"
     ]
    },
    {
     "name": "stderr",
     "output_type": "stream",
     "text": [
      "/opt/conda/envs/DL/lib/python3.9/site-packages/tensorflow/python/keras/legacy_tf_layers/core.py:171: UserWarning: `tf.layers.dense` is deprecated and will be removed in a future version. Please use `tf.keras.layers.Dense` instead.\n",
      "  warnings.warn('`tf.layers.dense` is deprecated and '\n",
      "/opt/conda/envs/DL/lib/python3.9/site-packages/tensorflow/python/keras/engine/base_layer_v1.py:1692: UserWarning: `layer.apply` is deprecated and will be removed in a future version. Please use `layer.__call__` method instead.\n",
      "  warnings.warn('`layer.apply` is deprecated and '\n",
      "2021-10-26 08:44:59.260243: I tensorflow/stream_executor/platform/default/dso_loader.cc:53] Successfully opened dynamic library libcuda.so.1\n",
      "2021-10-26 08:44:59.600871: I tensorflow/core/common_runtime/gpu/gpu_device.cc:1733] Found device 0 with properties: \n",
      "pciBusID: 0000:01:00.0 name: Quadro RTX 8000 computeCapability: 7.5\n",
      "coreClock: 1.77GHz coreCount: 72 deviceMemorySize: 47.46GiB deviceMemoryBandwidth: 625.94GiB/s\n",
      "2021-10-26 08:44:59.603416: I tensorflow/core/common_runtime/gpu/gpu_device.cc:1733] Found device 1 with properties: \n",
      "pciBusID: 0000:24:00.0 name: Quadro RTX 8000 computeCapability: 7.5\n",
      "coreClock: 1.77GHz coreCount: 72 deviceMemorySize: 47.46GiB deviceMemoryBandwidth: 625.94GiB/s\n",
      "2021-10-26 08:44:59.605942: I tensorflow/core/common_runtime/gpu/gpu_device.cc:1733] Found device 2 with properties: \n",
      "pciBusID: 0000:41:00.0 name: Quadro RTX 8000 computeCapability: 7.5\n",
      "coreClock: 1.77GHz coreCount: 72 deviceMemorySize: 47.46GiB deviceMemoryBandwidth: 625.94GiB/s\n",
      "2021-10-26 08:44:59.608477: I tensorflow/core/common_runtime/gpu/gpu_device.cc:1733] Found device 3 with properties: \n",
      "pciBusID: 0000:61:00.0 name: Quadro RTX 8000 computeCapability: 7.5\n",
      "coreClock: 1.77GHz coreCount: 72 deviceMemorySize: 47.46GiB deviceMemoryBandwidth: 625.94GiB/s\n",
      "2021-10-26 08:44:59.611003: I tensorflow/core/common_runtime/gpu/gpu_device.cc:1733] Found device 4 with properties: \n",
      "pciBusID: 0000:81:00.0 name: Quadro RTX 8000 computeCapability: 7.5\n",
      "coreClock: 1.77GHz coreCount: 72 deviceMemorySize: 47.46GiB deviceMemoryBandwidth: 625.94GiB/s\n",
      "2021-10-26 08:44:59.613544: I tensorflow/core/common_runtime/gpu/gpu_device.cc:1733] Found device 5 with properties: \n",
      "pciBusID: 0000:a1:00.0 name: Quadro RTX 8000 computeCapability: 7.5\n",
      "coreClock: 1.77GHz coreCount: 72 deviceMemorySize: 47.46GiB deviceMemoryBandwidth: 625.94GiB/s\n",
      "2021-10-26 08:44:59.616072: I tensorflow/core/common_runtime/gpu/gpu_device.cc:1733] Found device 6 with properties: \n",
      "pciBusID: 0000:c1:00.0 name: Quadro RTX 8000 computeCapability: 7.5\n",
      "coreClock: 1.77GHz coreCount: 72 deviceMemorySize: 47.46GiB deviceMemoryBandwidth: 625.94GiB/s\n",
      "2021-10-26 08:44:59.618594: I tensorflow/core/common_runtime/gpu/gpu_device.cc:1733] Found device 7 with properties: \n",
      "pciBusID: 0000:e1:00.0 name: Quadro RTX 8000 computeCapability: 7.5\n",
      "coreClock: 1.77GHz coreCount: 72 deviceMemorySize: 47.46GiB deviceMemoryBandwidth: 625.94GiB/s\n",
      "2021-10-26 08:44:59.618615: I tensorflow/stream_executor/platform/default/dso_loader.cc:53] Successfully opened dynamic library libcudart.so.11.0\n",
      "2021-10-26 08:44:59.620429: I tensorflow/stream_executor/platform/default/dso_loader.cc:53] Successfully opened dynamic library libcublas.so.11\n",
      "2021-10-26 08:44:59.620459: I tensorflow/stream_executor/platform/default/dso_loader.cc:53] Successfully opened dynamic library libcublasLt.so.11\n",
      "2021-10-26 08:44:59.622190: I tensorflow/stream_executor/platform/default/dso_loader.cc:53] Successfully opened dynamic library libcufft.so.10\n",
      "2021-10-26 08:44:59.622389: I tensorflow/stream_executor/platform/default/dso_loader.cc:53] Successfully opened dynamic library libcurand.so.10\n",
      "2021-10-26 08:44:59.624107: I tensorflow/stream_executor/platform/default/dso_loader.cc:53] Successfully opened dynamic library libcusolver.so.11\n",
      "2021-10-26 08:44:59.624551: I tensorflow/stream_executor/platform/default/dso_loader.cc:53] Successfully opened dynamic library libcusparse.so.11\n",
      "2021-10-26 08:44:59.624647: W tensorflow/stream_executor/platform/default/dso_loader.cc:64] Could not load dynamic library 'libcudnn.so.8'; dlerror: libcudnn.so.8: cannot open shared object file: No such file or directory\n",
      "2021-10-26 08:44:59.624657: W tensorflow/core/common_runtime/gpu/gpu_device.cc:1766] Cannot dlopen some GPU libraries. Please make sure the missing libraries mentioned above are installed properly if you would like to use GPU. Follow the guide at https://www.tensorflow.org/install/gpu for how to download and setup the required libraries for your platform.\n",
      "Skipping registering GPU devices...\n",
      "2021-10-26 08:44:59.625272: I tensorflow/core/platform/cpu_feature_guard.cc:142] This TensorFlow binary is optimized with oneAPI Deep Neural Network Library (oneDNN) to use the following CPU instructions in performance-critical operations:  AVX2 FMA\n",
      "To enable them in other operations, rebuild TensorFlow with the appropriate compiler flags.\n",
      "2021-10-26 08:44:59.630042: I tensorflow/core/common_runtime/gpu/gpu_device.cc:1258] Device interconnect StreamExecutor with strength 1 edge matrix:\n",
      "2021-10-26 08:44:59.630068: I tensorflow/core/common_runtime/gpu/gpu_device.cc:1264]      \n"
     ]
    },
    {
     "name": "stdout",
     "output_type": "stream",
     "text": [
      "'compile' took 1.107159 s\n",
      "\n",
      "Initializing variables...\n",
      "Training model...\n",
      "\n"
     ]
    },
    {
     "name": "stderr",
     "output_type": "stream",
     "text": [
      "2021-10-26 08:45:00.371647: I tensorflow/core/platform/profile_utils/cpu_utils.cc:114] CPU Frequency: 3000205000 Hz\n"
     ]
    },
    {
     "name": "stdout",
     "output_type": "stream",
     "text": [
      "Step      Train loss                                                      Test loss                                                       Test metric\n",
      "0         [4.86e+02, 8.74e+02, 1.78e+00, 1.19e+00, 1.18e+03, 4.78e+02]    [4.91e+02, 8.80e+02, 1.78e+00, 1.19e+00, 1.18e+03, 4.78e+02]    []  \n",
      "1000      [1.83e-02, 2.00e-02, 2.32e-04, 2.10e-04, 6.53e-03, 1.56e-02]    [1.83e-02, 2.00e-02, 2.32e-04, 2.10e-04, 6.53e-03, 1.56e-02]    []  \n"
     ]
    }
   ],
   "source": [
    "obstacle = dde.geometry.Disk([0,0], radius)\n",
    "disk = dde.geometry.Disk([0,0], R)\n",
    "\n",
    "geom = dde.geometry.CSGDifference(disk, obstacle)\n",
    "\n",
    "def pde(x, y):\n",
    "    y0, y1 = y[:, 0:1], y[:, 1:2]\n",
    "    \n",
    "    y0_xx = dde.grad.hessian(y, x, component=0, i=0, j=0)\n",
    "    y0_yy = dde.grad.hessian(y, x, component=0, i=1, j=1)\n",
    "\n",
    "    y1_xx = dde.grad.hessian(y, x,component=1, i=0, j=0)\n",
    "    y1_yy = dde.grad.hessian(y, x,component=1, i=1, j=1)\n",
    "\n",
    "    return [-y0_xx - y0_yy - k0 ** 2 * y0,\n",
    "            -y1_xx - y1_yy - k0 ** 2 * y1]\n",
    "\n",
    "\n",
    "def boundary_obstacle(_, on_boundary):\n",
    "    return on_boundary and obstacle.on_boundary(_)\n",
    "\n",
    "def boundary_disk(_, on_boundary):\n",
    "    return on_boundary and disk.on_boundary(_)\n",
    "\n",
    "def func0(x):\n",
    "    normal = disk.boundary_normal(x)\n",
    "    w = 1j * k0 * np.exp(1j * k0 * x[:, 0:1])\n",
    "    result = - w * normal[:, 0:1]\n",
    "    return np.real(result)\n",
    "\n",
    "def func1(x):\n",
    "    normal = disk.boundary_normal(x)\n",
    "    w = 1j * k0 * np.exp(1j * k0 * x[:, 0:1])\n",
    "    result = - w * normal[:, 0:1]\n",
    "    return np.imag(result)\n",
    "\n",
    "bc_obstacle0 = dde.NeumannBC(geom, func0, boundary_obstacle, component = 0)\n",
    "bc_obstacle1 = dde.NeumannBC(geom, func1, boundary_obstacle, component = 1)\n",
    "\n",
    "bc_disk0 = dde.RobinBC(geom, lambda X, y: -k0 * y[:, 1:2], boundary_disk, component = 0)\n",
    "bc_disk1 = dde.RobinBC(geom, lambda X, y: k0 * y[:, 0:1], boundary_disk, component = 1)\n",
    "\n",
    "\n",
    "\n",
    "bcs = [bc_obstacle0, bc_obstacle1, bc_disk0, bc_disk1]\n",
    "weights = [1, 1, 100, 100, 100, 100]\n",
    "data = dde.data.PDE(geom, pde, bcs, num_domain= nx**2, num_boundary= 4 * nx, num_test= 10 * nx ** 2)\n",
    "net = dde.maps.FNN([2] + [50] * 4 + [2], \"tanh\", \"Glorot uniform\")\n",
    "model = dde.Model(data, net)\n",
    "\n",
    "model.compile(\"adam\", lr=0.001, loss_weights= weights)\n",
    "model.train(epochs=10000)\n",
    "model.compile(\"L-BFGS\")\n",
    "losshistory, train_state = model.train()\n",
    "#dde.saveplot(losshistory, train_state, issave=True, isplot=True)\n"
   ]
  },
  {
   "cell_type": "code",
   "execution_count": null,
   "id": "7f03453d",
   "metadata": {},
   "outputs": [],
   "source": []
  }
 ],
 "metadata": {
  "kernelspec": {
   "display_name": "Python 3 (ipykernel)",
   "language": "python",
   "name": "python3"
  },
  "language_info": {
   "codemirror_mode": {
    "name": "ipython",
    "version": 3
   },
   "file_extension": ".py",
   "mimetype": "text/x-python",
   "name": "python",
   "nbconvert_exporter": "python",
   "pygments_lexer": "ipython3",
   "version": "3.9.5"
  }
 },
 "nbformat": 4,
 "nbformat_minor": 5
}
