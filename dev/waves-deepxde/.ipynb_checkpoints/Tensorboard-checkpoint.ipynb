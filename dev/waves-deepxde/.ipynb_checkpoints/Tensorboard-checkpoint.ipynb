{
 "cells": [
  {
   "cell_type": "code",
   "execution_count": null,
   "id": "a16c1079",
   "metadata": {},
   "outputs": [],
   "source": [
    "%load_ext tensorboard\n",
    "rm -rf ./logs/\n"
   ]
  },
  {
   "cell_type": "code",
   "execution_count": null,
   "id": "76a2360b",
   "metadata": {},
   "outputs": [],
   "source": [
    "import tensorflow as tf\n",
    "from tensorboard.plugins.hparams import api as hp\n",
    "\n",
    "\"\"\"Backend supported: tensorflow.compat.v1, tensorflow, pytorch\"\"\"\n",
    "import deepxde as dde\n",
    "\n",
    "\n",
    "def pde(x, y):\n",
    "    dy_xx = dde.grad.hessian(y, x, i=0, j=0)\n",
    "    dy_yy = dde.grad.hessian(y, x, i=1, j=1)\n",
    "    return -dy_xx - dy_yy - 1\n",
    "\n",
    "\n",
    "def boundary(_, on_boundary):\n",
    "    return on_boundary\n",
    "\n",
    "\n",
    "geom = dde.geometry.Polygon([[0, 0], [1, 0], [1, -1], [-1, -1], [-1, 1], [0, 1]])\n",
    "bc = dde.DirichletBC(geom, lambda x: 0, boundary)\n",
    "\n",
    "HP_NUM_UNITS = hp.HParam('num_units', hp.Discrete([10, 50]))\n",
    "METRIC_ACCURACY = 'accuracy'\n",
    "\n",
    "with tf.summary.create_file_writer('logs/hparam_tuning').as_default():\n",
    "  hp.hparams_config(\n",
    "    hparams=[HP_NUM_UNITS],\n",
    "    metrics=[hp.Metric(METRIC_ACCURACY, display_name='Accuracy')],\n",
    "  )\n"
   ]
  },
  {
   "cell_type": "code",
   "execution_count": null,
   "id": "97b172f6",
   "metadata": {},
   "outputs": [],
   "source": [
    "data = dde.data.PDE(geom, pde, bc, num_domain=1200, num_boundary=120, num_test=1500)\n",
    "net = dde.maps.FNN([2] + [50] * 4 + [1], \"tanh\", \"Glorot uniform\")\n",
    "model = dde.Model(data, net)\n",
    "\n",
    "model.compile(\"adam\", lr=0.001)\n",
    "model.train(epochs=1000)\n",
    "model.compile(\"L-BFGS\")\n",
    "losshistory, train_state = model.train()\n",
    "dde.saveplot(losshistory, train_state, issave=True, isplot=True)"
   ]
  },
  {
   "cell_type": "code",
   "execution_count": null,
   "id": "a102e98b",
   "metadata": {},
   "outputs": [],
   "source": [
    "def train_test_model(hparams)"
   ]
  }
 ],
 "metadata": {
  "kernelspec": {
   "display_name": "Python 3 (ipykernel)",
   "language": "python",
   "name": "python3"
  },
  "language_info": {
   "codemirror_mode": {
    "name": "ipython",
    "version": 3
   },
   "file_extension": ".py",
   "mimetype": "text/x-python",
   "name": "python",
   "nbconvert_exporter": "python",
   "pygments_lexer": "ipython3",
   "version": "3.9.5"
  }
 },
 "nbformat": 4,
 "nbformat_minor": 5
}
