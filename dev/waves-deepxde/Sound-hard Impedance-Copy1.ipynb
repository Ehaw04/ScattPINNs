{
 "cells": [
  {
   "cell_type": "code",
   "execution_count": 20,
   "id": "4dc09eb0",
   "metadata": {},
   "outputs": [
    {
     "name": "stdout",
     "output_type": "stream",
     "text": [
      "109\n",
      "109.99999999999999\n"
     ]
    }
   ],
   "source": [
    "import numpy as np\n",
    "import matplotlib.pyplot as plt\n",
    "import deepxde as dde \n",
    "from analytical import sound_hard_circle\n",
    "\n",
    "\n",
    "#dde.config.set_default_float('float64')\n",
    "\n",
    "'''                        Problem parameters                               '''\n",
    "k0 = 1            # wavenumber\n",
    "wave_len = 2*np.pi / k0  # wavelength\n",
    "radius = 1 * wave_len    # scatterer radius\n",
    "d_air = 10 * wave_len     # distance between scatterer and absorbing layer\n",
    "\n",
    "n_wave = 5  # number of mesh elements per wavelength\n",
    "\n",
    "dim_x = 2 * (radius + d_air)\n",
    "\n",
    "# The mesh element size is h_elem\n",
    "h_elem = wave_len / n_wave\n",
    "\n",
    "R = dim_x / 2.\n",
    "nx = int(dim_x / h_elem)\n",
    "print(nx)\n",
    "print(dim_x / h_elem)\n"
   ]
  },
  {
   "cell_type": "code",
   "execution_count": null,
   "id": "157fda1f",
   "metadata": {},
   "outputs": [],
   "source": []
  },
  {
   "cell_type": "code",
   "execution_count": null,
   "id": "a6c6ff09",
   "metadata": {},
   "outputs": [
    {
     "name": "stdout",
     "output_type": "stream",
     "text": [
      "Warning: CSGDifference.uniform_points not implemented. Use random_points instead.\n",
      "Compiling model...\n",
      "Building feed-forward neural network...\n",
      "'build' took 0.145320 s\n",
      "\n"
     ]
    },
    {
     "name": "stderr",
     "output_type": "stream",
     "text": [
      "/opt/conda/envs/DL/lib/python3.9/site-packages/tensorflow/python/keras/legacy_tf_layers/core.py:171: UserWarning: `tf.layers.dense` is deprecated and will be removed in a future version. Please use `tf.keras.layers.Dense` instead.\n",
      "  warnings.warn('`tf.layers.dense` is deprecated and '\n",
      "/opt/conda/envs/DL/lib/python3.9/site-packages/tensorflow/python/keras/engine/base_layer_v1.py:1692: UserWarning: `layer.apply` is deprecated and will be removed in a future version. Please use `layer.__call__` method instead.\n",
      "  warnings.warn('`layer.apply` is deprecated and '\n",
      "2021-10-26 08:55:11.262795: I tensorflow/stream_executor/platform/default/dso_loader.cc:53] Successfully opened dynamic library libcuda.so.1\n",
      "2021-10-26 08:55:11.464828: I tensorflow/core/common_runtime/gpu/gpu_device.cc:1733] Found device 0 with properties: \n",
      "pciBusID: 0000:01:00.0 name: Quadro RTX 8000 computeCapability: 7.5\n",
      "coreClock: 1.77GHz coreCount: 72 deviceMemorySize: 47.46GiB deviceMemoryBandwidth: 625.94GiB/s\n",
      "2021-10-26 08:55:11.467919: I tensorflow/core/common_runtime/gpu/gpu_device.cc:1733] Found device 1 with properties: \n",
      "pciBusID: 0000:24:00.0 name: Quadro RTX 8000 computeCapability: 7.5\n",
      "coreClock: 1.77GHz coreCount: 72 deviceMemorySize: 47.46GiB deviceMemoryBandwidth: 625.94GiB/s\n",
      "2021-10-26 08:55:11.470892: I tensorflow/core/common_runtime/gpu/gpu_device.cc:1733] Found device 2 with properties: \n",
      "pciBusID: 0000:41:00.0 name: Quadro RTX 8000 computeCapability: 7.5\n",
      "coreClock: 1.77GHz coreCount: 72 deviceMemorySize: 47.46GiB deviceMemoryBandwidth: 625.94GiB/s\n",
      "2021-10-26 08:55:11.473907: I tensorflow/core/common_runtime/gpu/gpu_device.cc:1733] Found device 3 with properties: \n",
      "pciBusID: 0000:61:00.0 name: Quadro RTX 8000 computeCapability: 7.5\n",
      "coreClock: 1.77GHz coreCount: 72 deviceMemorySize: 47.46GiB deviceMemoryBandwidth: 625.94GiB/s\n",
      "2021-10-26 08:55:11.476656: I tensorflow/core/common_runtime/gpu/gpu_device.cc:1733] Found device 4 with properties: \n",
      "pciBusID: 0000:81:00.0 name: Quadro RTX 8000 computeCapability: 7.5\n",
      "coreClock: 1.77GHz coreCount: 72 deviceMemorySize: 47.46GiB deviceMemoryBandwidth: 625.94GiB/s\n",
      "2021-10-26 08:55:11.480068: I tensorflow/core/common_runtime/gpu/gpu_device.cc:1733] Found device 5 with properties: \n",
      "pciBusID: 0000:a1:00.0 name: Quadro RTX 8000 computeCapability: 7.5\n",
      "coreClock: 1.77GHz coreCount: 72 deviceMemorySize: 47.46GiB deviceMemoryBandwidth: 625.94GiB/s\n",
      "2021-10-26 08:55:11.483130: I tensorflow/core/common_runtime/gpu/gpu_device.cc:1733] Found device 6 with properties: \n",
      "pciBusID: 0000:c1:00.0 name: Quadro RTX 8000 computeCapability: 7.5\n",
      "coreClock: 1.77GHz coreCount: 72 deviceMemorySize: 47.46GiB deviceMemoryBandwidth: 625.94GiB/s\n",
      "2021-10-26 08:55:11.486287: I tensorflow/core/common_runtime/gpu/gpu_device.cc:1733] Found device 7 with properties: \n",
      "pciBusID: 0000:e1:00.0 name: Quadro RTX 8000 computeCapability: 7.5\n",
      "coreClock: 1.77GHz coreCount: 72 deviceMemorySize: 47.46GiB deviceMemoryBandwidth: 625.94GiB/s\n",
      "2021-10-26 08:55:11.486333: I tensorflow/stream_executor/platform/default/dso_loader.cc:53] Successfully opened dynamic library libcudart.so.11.0\n",
      "2021-10-26 08:55:11.489401: I tensorflow/stream_executor/platform/default/dso_loader.cc:53] Successfully opened dynamic library libcublas.so.11\n",
      "2021-10-26 08:55:11.489464: I tensorflow/stream_executor/platform/default/dso_loader.cc:53] Successfully opened dynamic library libcublasLt.so.11\n",
      "2021-10-26 08:55:11.493849: I tensorflow/stream_executor/platform/default/dso_loader.cc:53] Successfully opened dynamic library libcufft.so.10\n",
      "2021-10-26 08:55:11.494446: I tensorflow/stream_executor/platform/default/dso_loader.cc:53] Successfully opened dynamic library libcurand.so.10\n",
      "2021-10-26 08:55:11.499052: I tensorflow/stream_executor/platform/default/dso_loader.cc:53] Successfully opened dynamic library libcusolver.so.11\n",
      "2021-10-26 08:55:11.500657: I tensorflow/stream_executor/platform/default/dso_loader.cc:53] Successfully opened dynamic library libcusparse.so.11\n",
      "2021-10-26 08:55:11.501147: W tensorflow/stream_executor/platform/default/dso_loader.cc:64] Could not load dynamic library 'libcudnn.so.8'; dlerror: libcudnn.so.8: cannot open shared object file: No such file or directory\n",
      "2021-10-26 08:55:11.501201: W tensorflow/core/common_runtime/gpu/gpu_device.cc:1766] Cannot dlopen some GPU libraries. Please make sure the missing libraries mentioned above are installed properly if you would like to use GPU. Follow the guide at https://www.tensorflow.org/install/gpu for how to download and setup the required libraries for your platform.\n",
      "Skipping registering GPU devices...\n",
      "2021-10-26 08:55:11.509350: I tensorflow/core/platform/cpu_feature_guard.cc:142] This TensorFlow binary is optimized with oneAPI Deep Neural Network Library (oneDNN) to use the following CPU instructions in performance-critical operations:  AVX2 FMA\n",
      "To enable them in other operations, rebuild TensorFlow with the appropriate compiler flags.\n",
      "2021-10-26 08:55:11.517696: I tensorflow/core/common_runtime/gpu/gpu_device.cc:1258] Device interconnect StreamExecutor with strength 1 edge matrix:\n",
      "2021-10-26 08:55:11.519128: I tensorflow/core/common_runtime/gpu/gpu_device.cc:1264]      \n"
     ]
    },
    {
     "name": "stdout",
     "output_type": "stream",
     "text": [
      "'compile' took 2.773940 s\n",
      "\n",
      "Initializing variables...\n"
     ]
    },
    {
     "name": "stderr",
     "output_type": "stream",
     "text": [
      "2021-10-26 08:55:14.003992: I tensorflow/core/platform/profile_utils/cpu_utils.cc:114] CPU Frequency: 3000205000 Hz\n"
     ]
    },
    {
     "name": "stdout",
     "output_type": "stream",
     "text": [
      "Training model...\n",
      "\n",
      "Step      Train loss                                                      Test loss                                                       Test metric\n",
      "0         [2.38e-02, 6.10e-01, 7.10e-03, 1.81e-02, 5.66e+01, 2.49e+00]    [2.40e-02, 6.10e-01, 7.10e-03, 1.81e-02, 5.66e+01, 2.49e+00]    []  \n",
      "1000      [5.50e-05, 6.06e-05, 3.71e-04, 1.52e-04, 1.16e-04, 1.32e-04]    [5.06e-05, 5.52e-05, 3.71e-04, 1.52e-04, 1.16e-04, 1.32e-04]    []  \n",
      "2000      [2.70e-05, 3.62e-05, 8.31e-05, 2.56e-05, 5.00e-05, 5.13e-05]    [2.46e-05, 3.28e-05, 8.31e-05, 2.56e-05, 5.00e-05, 5.13e-05]    []  \n",
      "3000      [1.50e-05, 2.27e-05, 2.24e-05, 6.70e-06, 2.62e-05, 2.41e-05]    [1.39e-05, 2.13e-05, 2.24e-05, 6.70e-06, 2.62e-05, 2.41e-05]    []  \n",
      "4000      [9.52e-06, 1.47e-05, 6.64e-06, 3.58e-06, 1.34e-05, 1.29e-05]    [9.01e-06, 1.44e-05, 6.64e-06, 3.58e-06, 1.34e-05, 1.29e-05]    []  \n",
      "5000      [6.00e-06, 1.08e-05, 3.56e-06, 3.87e-06, 9.99e-06, 1.11e-05]    [5.81e-06, 1.09e-05, 3.56e-06, 3.87e-06, 9.99e-06, 1.11e-05]    []  \n",
      "6000      [3.03e-05, 2.40e-05, 5.75e-06, 5.31e-06, 1.99e-03, 2.22e-03]    [3.01e-05, 2.41e-05, 5.75e-06, 5.31e-06, 1.99e-03, 2.22e-03]    []  \n",
      "7000      [3.74e-06, 9.26e-06, 2.04e-06, 3.43e-06, 2.10e-04, 5.04e-05]    [3.65e-06, 9.10e-06, 2.04e-06, 3.43e-06, 2.10e-04, 5.04e-05]    []  \n",
      "8000      [9.73e-06, 6.81e-05, 1.64e-06, 6.13e-06, 7.68e-03, 6.60e-04]    [9.62e-06, 6.85e-05, 1.64e-06, 6.13e-06, 7.68e-03, 6.60e-04]    []  \n"
     ]
    }
   ],
   "source": [
    "obstacle = dde.geometry.Disk([0,0], radius)\n",
    "disk = dde.geometry.Disk([0,0], R)\n",
    "\n",
    "geom = dde.geometry.CSGDifference(disk, obstacle)\n",
    "\n",
    "def pde(x, y):\n",
    "    y0, y1 = y[:, 0:1], y[:, 1:2]\n",
    "    \n",
    "    y0_xx = dde.grad.hessian(y, x, component=0, i=0, j=0)\n",
    "    y0_yy = dde.grad.hessian(y, x, component=0, i=1, j=1)\n",
    "\n",
    "    y1_xx = dde.grad.hessian(y, x,component=1, i=0, j=0)\n",
    "    y1_yy = dde.grad.hessian(y, x,component=1, i=1, j=1)\n",
    "\n",
    "    return [-y0_xx - y0_yy - k0 ** 2 * y0,\n",
    "            -y1_xx - y1_yy - k0 ** 2 * y1]\n",
    "\n",
    "\n",
    "def boundary_obstacle(_, on_boundary):\n",
    "    return on_boundary and obstacle.on_boundary(_)\n",
    "\n",
    "def boundary_disk(_, on_boundary):\n",
    "    return on_boundary and disk.on_boundary(_)\n",
    "\n",
    "def func0(x):\n",
    "    normal = disk.boundary_normal(x)\n",
    "    w = 1j * k0 * np.exp(1j * k0 * x[:, 0:1])\n",
    "    result = - w * normal[:, 0:1]\n",
    "    return np.real(result)\n",
    "\n",
    "def func1(x):\n",
    "    normal = disk.boundary_normal(x)\n",
    "    w = 1j * k0 * np.exp(1j * k0 * x[:, 0:1])\n",
    "    result = - w * normal[:, 0:1]\n",
    "    return np.imag(result)\n",
    "\n",
    "bc_obstacle0 = dde.NeumannBC(geom, func0, boundary_obstacle, component = 0)\n",
    "bc_obstacle1 = dde.NeumannBC(geom, func1, boundary_obstacle, component = 1)\n",
    "\n",
    "bc_disk0 = dde.RobinBC(geom, lambda X, y: -k0 * y[:, 1:2], boundary_disk, component = 0)\n",
    "bc_disk1 = dde.RobinBC(geom, lambda X, y: k0 * y[:, 0:1], boundary_disk, component = 1)\n",
    "\n",
    "\n",
    "\n",
    "bcs = [bc_obstacle0, bc_obstacle1, bc_disk0, bc_disk1]\n",
    "weights = [1, 1, 100, 100, 100, 100]\n",
    "data = dde.data.PDE(geom, pde, bcs, num_domain= nx**2, num_boundary= 4 * nx, num_test= 10 * nx ** 2)\n",
    "net = dde.maps.FNN([2] + [50] * 4 + [2], \"tanh\", \"Glorot uniform\")\n",
    "model = dde.Model(data, net)\n",
    "\n",
    "model.compile(\"adam\", lr=0.001, loss_weights= weights)\n",
    "model.train(epochs=10000)\n",
    "model.compile(\"L-BFGS\")\n",
    "losshistory, train_state = model.train()\n",
    "#dde.saveplot(losshistory, train_state, issave=True, isplot=True)\n"
   ]
  },
  {
   "cell_type": "code",
   "execution_count": null,
   "id": "7f03453d",
   "metadata": {},
   "outputs": [],
   "source": []
  }
 ],
 "metadata": {
  "kernelspec": {
   "display_name": "Python 3 (ipykernel)",
   "language": "python",
   "name": "python3"
  },
  "language_info": {
   "codemirror_mode": {
    "name": "ipython",
    "version": 3
   },
   "file_extension": ".py",
   "mimetype": "text/x-python",
   "name": "python",
   "nbconvert_exporter": "python",
   "pygments_lexer": "ipython3",
   "version": "3.9.5"
  }
 },
 "nbformat": 4,
 "nbformat_minor": 5
}
